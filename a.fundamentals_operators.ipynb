{
 "cells": [
  {
   "cell_type": "markdown",
   "metadata": {},
   "source": [
    "1. Fundamentals & Operations \n",
    "Declaration, initialization, traversal\n",
    "Access by index (O(1) time complexity)\n",
    "Modification & update of elements\n",
    "Array memory model & fixed size propert"
   ]
  },
  {
   "cell_type": "markdown",
   "metadata": {},
   "source": []
  },
  {
   "cell_type": "code",
   "execution_count": 1,
   "metadata": {},
   "outputs": [],
   "source": [
    "arr = []       # empty array\n",
    "arr = [1, 2, 3, 4]   # array with initial values"
   ]
  },
  {
   "cell_type": "code",
   "execution_count": 3,
   "metadata": {},
   "outputs": [],
   "source": [
    "arr = [0] * 5        # [0, 0, 0, 0, 0]\n",
    "arr = ['A'] * 7      # ['A', 'A', 'A', 'A', 'A', 'A', 'A']"
   ]
  },
  {
   "cell_type": "code",
   "execution_count": 4,
   "metadata": {},
   "outputs": [],
   "source": [
    "arr = [0 for i in range(5)]  # [0, 0, 0, 0, 0] - list comprehension"
   ]
  },
  {
   "cell_type": "markdown",
   "metadata": {},
   "source": [
    "Traversal - Access all elements with a loop:"
   ]
  },
  {
   "cell_type": "code",
   "execution_count": 5,
   "metadata": {},
   "outputs": [
    {
     "name": "stdout",
     "output_type": "stream",
     "text": [
      "0\n",
      "0\n",
      "0\n",
      "0\n",
      "0\n"
     ]
    }
   ],
   "source": [
    "for i in range(len(arr)):\n",
    "    print(arr[i])    # access by index"
   ]
  },
  {
   "cell_type": "code",
   "execution_count": 6,
   "metadata": {},
   "outputs": [
    {
     "name": "stdout",
     "output_type": "stream",
     "text": [
      "0\n",
      "0\n",
      "0\n",
      "0\n",
      "0\n"
     ]
    }
   ],
   "source": [
    "for el in arr:\n",
    "    print(el)"
   ]
  },
  {
   "cell_type": "markdown",
   "metadata": {},
   "source": [
    "3. Access by Index (O(1) Time Complexity)\n"
   ]
  },
  {
   "cell_type": "code",
   "execution_count": 7,
   "metadata": {},
   "outputs": [],
   "source": [
    "val = arr[2]     # Get third element\n",
    "arr[2] = 99      # Set third element to 99\n",
    "#very fast—doesn't depend on the size of the list."
   ]
  },
  {
   "cell_type": "markdown",
   "metadata": {},
   "source": [
    "4. Modification & Update of Elements\n"
   ]
  },
  {
   "cell_type": "code",
   "execution_count": 8,
   "metadata": {},
   "outputs": [],
   "source": [
    "arr[0] = 42      # change first element\n",
    "arr[3] = arr[0] + 10"
   ]
  },
  {
   "cell_type": "markdown",
   "metadata": {},
   "source": [
    "5. Array Memory Model & Fixed Size Property\n",
    "\n",
    "Lists in Python are stored in contiguous memory and accessed by index, but they are dynamic, not fixed size as in C/C++/Java. You can add (append()), remove (pop()), or extend (extend()) elements any time."
   ]
  },
  {
   "cell_type": "markdown",
   "metadata": {},
   "source": [
    "List slicing"
   ]
  },
  {
   "cell_type": "code",
   "execution_count": 10,
   "metadata": {},
   "outputs": [],
   "source": [
    "arr = [1, 2, 3, 4, 5]\n",
    "arr2 = arr[1:4]    # [2, 3, 4]\n",
    "arr_rev = arr[::-1] # [5, 4, 3, 2, 1] - reverse a list\n"
   ]
  },
  {
   "cell_type": "markdown",
   "metadata": {},
   "source": [
    "Slicing is fast (O(k) where k is slice length), and allows reverse, copy, or skipping elements (arr[::2] is every other)."
   ]
  },
  {
   "cell_type": "markdown",
   "metadata": {},
   "source": [
    "Filtering & Mapping"
   ]
  },
  {
   "cell_type": "code",
   "execution_count": 11,
   "metadata": {},
   "outputs": [],
   "source": [
    "filtered = list(filter(lambda x: x > 2, arr)) # filters records that satisfies function\n",
    "mapped = list(map(lambda x: x*10, arr)) # applies function on all records"
   ]
  },
  {
   "cell_type": "markdown",
   "metadata": {},
   "source": [
    "List Methods\n",
    "Common ones:\n",
    "\n",
    "append(), pop(), remove(), extend(), insert(), reverse(), sort(), count(), index()\n",
    "\n"
   ]
  },
  {
   "cell_type": "markdown",
   "metadata": {},
   "source": [
    "arr.append(6)    # Add to end\n",
    "arr.pop()        # Remove last element\n",
    "arr.sort()       # Sort in ascending order\n",
    "arr.reverse()    # Order from end to start\n"
   ]
  },
  {
   "cell_type": "markdown",
   "metadata": {},
   "source": [
    "5. Copying: Shallow vs. Deep:\n",
    "A simple assignment (arr2 = arr) creates a reference, not a copy.\n",
    "\n",
    "For independent copies:\n",
    "\n",
    "Shallow: arr2 = arr[:] or list(arr)\n",
    "\n",
    "Deep (for nested lists): Use import copy; arr2 = copy.deepcopy(arr)"
   ]
  },
  {
   "cell_type": "markdown",
   "metadata": {},
   "source": [
    "6. Nested Lists/Matrix Operations\n",
    "\n",
    "Lists can store other lists (2D arrays):"
   ]
  },
  {
   "cell_type": "code",
   "execution_count": 12,
   "metadata": {},
   "outputs": [
    {
     "name": "stdout",
     "output_type": "stream",
     "text": [
      "2\n"
     ]
    }
   ],
   "source": [
    "matrix = [[1,2,3],[4,5,6],[7,8,9]]\n",
    "print(matrix[0][1])  # Access '2'"
   ]
  },
  {
   "cell_type": "markdown",
   "metadata": {},
   "source": [
    "7. Time Complexity Basics (for interviews)\n",
    "\n",
    "Indexed access: O(1)\n",
    "\n",
    "Search: O(n) (unless sorted + extra logic)\n",
    "\n",
    "Insert or delete at the end: O(1)\n",
    "\n",
    "Insert or delete in the middle: O(n) (due to shifting)\n",
    "\n",
    "Slicing/copy: O(k)"
   ]
  },
  {
   "cell_type": "markdown",
   "metadata": {},
   "source": [
    "8. Prefer list comprehensions for clarity/efficiency."
   ]
  },
  {
   "cell_type": "markdown",
   "metadata": {},
   "source": [
    "9. Accessing out-of-bounds indices raises IndexError.\n",
    "\n"
   ]
  },
  {
   "cell_type": "markdown",
   "metadata": {},
   "source": [
    "10. Advanced Indexing & Access\n",
    "\n",
    "Negative indices: You can use arr[-1] for the last item, arr[-2] for second-last, etc.\n",
    "\n",
    "Slicing: Fast way to grab subsets: arr[1:4] gives elements 1 to 3. Slicing never raises errors for out-of-bounds; it just stops at the end.\n",
    "\n",
    "Assignment with slices updates multiple elements at once: arr[1:3] = [42][99] changes indices 1 & 2."
   ]
  },
  {
   "cell_type": "markdown",
   "metadata": {},
   "source": [
    "11. Common Pitfalls in Lists\n",
    "\n",
    "Index out of range: Trying arr[100] when your list has only 5 elements throws IndexError. Always check length first.\n",
    "\n",
    "Unintentional aliasing: Doing arr2 = arr just copies the reference; changes in one affect both.\n",
    "\n",
    "Mutable nested lists: If you have a list-of-lists and copy it with arr2 = arr[:], changing inner lists in one affects the other.\n",
    "\n",
    "Using methods incorrectly: Remember .remove(x) deletes the first occurrence of x; .pop() without an argument deletes the last element; be careful with what gets removed!"
   ]
  },
  {
   "cell_type": "markdown",
   "metadata": {},
   "source": [
    "Feature                |  List             |  Tuple                         |  Array              \n",
    "-----------------------+-------------------+--------------------------------+---------------------\n",
    "Mutability             |  Mutable          |  Immutable                     |  Mutable            \n",
    "Data type flexibility  |  Mixed types      |  Mixed types                   |  Single type only   \n",
    "Memory usage           |  Higher           |  Lower (for large/fixed data)  |  Lowest for numbers \n",
    "Performance            |  Slightly slower  |  Fastest (immutable)           |  Fastest for numbers\n",
    "Use cases              |  Changing data    |  Fixed data/coordinates        |  Math/science, NumPy"
   ]
  },
  {
   "cell_type": "markdown",
   "metadata": {},
   "source": [
    "12. Use lists when you want to modify, grow/shrink your collection, or store mixed types.​\n",
    "\n",
    "Use tuples when you want immutability (fixed settings, coordinates, function returns, keys in dictionaries).​\n",
    "\n",
    "Use arrays (like from array or numpy) for large numeric datasets with one type for speed and memory efficiency.​"
   ]
  },
  {
   "cell_type": "markdown",
   "metadata": {},
   "source": [
    "13. Performance Implications for Large Lists\n",
    "\n",
    "Access by index remains O(1), but adding/removing from anywhere except the end is O(n) due to shifting elements.\n",
    "\n",
    "Memory: Lists use more memory than arrays or tuples, as they store references and can handle mixed types. For millions of elements, consider using NumPy arrays (much faster and smaller).​\n",
    "\n",
    "Growing lists: Python periodically reallocates internal storage while append()-ing; this is usually fast, but spikes in very large lists can occur.\n"
   ]
  },
  {
   "cell_type": "markdown",
   "metadata": {},
   "source": [
    "Safe Deep vs Shallow Copies\n"
   ]
  },
  {
   "cell_type": "code",
   "execution_count": 13,
   "metadata": {},
   "outputs": [
    {
     "name": "stdout",
     "output_type": "stream",
     "text": [
      "[1, 42]\n"
     ]
    }
   ],
   "source": [
    "arr = [[1], [2]]\n",
    "arr_shallow = arr[:]\n",
    "arr_shallow[0].append(42)\n",
    "print(arr[0])  # [1, 42] -- changed in original!\n"
   ]
  },
  {
   "cell_type": "code",
   "execution_count": 14,
   "metadata": {},
   "outputs": [
    {
     "name": "stdout",
     "output_type": "stream",
     "text": [
      "[1]\n"
     ]
    }
   ],
   "source": [
    "import copy\n",
    "arr = [[1], [2]]\n",
    "arr_deep = copy.deepcopy(arr)\n",
    "arr_deep[0].append(99)\n",
    "print(arr[0])  # [1] -- original untouched\n"
   ]
  },
  {
   "cell_type": "markdown",
   "metadata": {},
   "source": [
    "Tip: Use copy.deepcopy() for nested lists when you want complete independence.\n",
    "\n"
   ]
  },
  {
   "cell_type": "markdown",
   "metadata": {},
   "source": [
    "List Transformation Recipes (Real-World)\n",
    "\n",
    "Filtering: [x for x in arr if x > 0] # Remove negatives\n",
    "\n",
    "Mapping: [x*2 for x in arr] # Double every value\n",
    "\n",
    "Zipping and pairing: list(zip(arr1, arr2)) for combining two lists\n",
    "\n",
    "Flattening nested lists: [item for sublist in outer for item in sublist]\n",
    "\n",
    "Grouping: Use collections.defaultdict(list) to group objects by properties.\n",
    "\n",
    "Sorting custom objects: sorted(students, key=lambda s: s['age'])"
   ]
  },
  {
   "cell_type": "code",
   "execution_count": 15,
   "metadata": {},
   "outputs": [
    {
     "name": "stdout",
     "output_type": "stream",
     "text": [
      "{'Sales': ['John Doe', 'Martin Smith'], 'Accounting': ['Jane Doe'], 'Marketing': ['Elizabeth Smith', 'Adam Doe']}\n"
     ]
    }
   ],
   "source": [
    "from collections import defaultdict\n",
    "\n",
    "departments = [\n",
    "    ('Sales', 'John Doe'),\n",
    "    ('Sales', 'Martin Smith'),\n",
    "    ('Accounting', 'Jane Doe'),\n",
    "    ('Marketing', 'Elizabeth Smith'),\n",
    "    ('Marketing', 'Adam Doe')\n",
    "]\n",
    "grouped = defaultdict(list)\n",
    "for dept, employee in departments:\n",
    "    grouped[dept].append(employee)\n",
    "\n",
    "print(dict(grouped))\n"
   ]
  },
  {
   "cell_type": "markdown",
   "metadata": {},
   "source": [
    "Why is this powerful? You never need to check if a key exists—missing keys automatically map to an empty list, which means grouping is fast and clean"
   ]
  },
  {
   "cell_type": "code",
   "execution_count": 16,
   "metadata": {},
   "outputs": [
    {
     "name": "stdout",
     "output_type": "stream",
     "text": [
      "[{'name': 'Bob', 'age': 19}, {'name': 'Carol', 'age': 20}, {'name': 'Alice', 'age': 22}]\n"
     ]
    }
   ],
   "source": [
    "students = [\n",
    "    {'name': 'Alice', 'age': 22},\n",
    "    {'name': 'Bob', 'age': 19},\n",
    "    {'name': 'Carol', 'age': 20}\n",
    "]\n",
    "\n",
    "# Sort by 'age':\n",
    "sorted_students = sorted(students, key=lambda s: s['age'])\n",
    "print(sorted_students)"
   ]
  },
  {
   "cell_type": "code",
   "execution_count": 17,
   "metadata": {},
   "outputs": [
    {
     "data": {
      "text/plain": [
       "[{'name': 'Alice', 'age': 22},\n",
       " {'name': 'Carol', 'age': 20},\n",
       " {'name': 'Bob', 'age': 19}]"
      ]
     },
     "execution_count": 17,
     "metadata": {},
     "output_type": "execute_result"
    }
   ],
   "source": [
    "sorted(students, key=lambda s: s['age'], reverse=True)\n"
   ]
  },
  {
   "cell_type": "code",
   "execution_count": null,
   "metadata": {},
   "outputs": [],
   "source": []
  }
 ],
 "metadata": {
  "kernelspec": {
   "display_name": "Python 3",
   "language": "python",
   "name": "python3"
  },
  "language_info": {
   "codemirror_mode": {
    "name": "ipython",
    "version": 3
   },
   "file_extension": ".py",
   "mimetype": "text/x-python",
   "name": "python",
   "nbconvert_exporter": "python",
   "pygments_lexer": "ipython3",
   "version": "3.9.18"
  }
 },
 "nbformat": 4,
 "nbformat_minor": 2
}
